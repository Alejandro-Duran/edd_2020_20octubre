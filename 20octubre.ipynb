{
  "nbformat": 4,
  "nbformat_minor": 0,
  "metadata": {
    "colab": {
      "name": "20octubre.ipynb",
      "provenance": [],
      "authorship_tag": "ABX9TyM4ynw9C2hvPs/mVrzlSGvZ",
      "include_colab_link": true
    },
    "kernelspec": {
      "name": "python3",
      "display_name": "Python 3"
    }
  },
  "cells": [
    {
      "cell_type": "markdown",
      "metadata": {
        "id": "view-in-github",
        "colab_type": "text"
      },
      "source": [
        "<a href=\"https://colab.research.google.com/github/Alejandro-Duran/edd_2020_20octubre/blob/main/20octubre.ipynb\" target=\"_parent\"><img src=\"https://colab.research.google.com/assets/colab-badge.svg\" alt=\"Open In Colab\"/></a>"
      ]
    },
    {
      "cell_type": "code",
      "metadata": {
        "id": "OiBevNumwDGB"
      },
      "source": [
        "archivo = open (\"Numeros.txt\",\"rt\")\n",
        "#for linea in range (0,3,1):#readlines para linea completa y readline para elementos de una sola linea\n",
        " #   ren=archivo.readline().lstrip().split(\",\")\n",
        "  #  for trunc in range (len(ren)):\n",
        "   #   if ren[trunc]!=\"\":\n",
        "    #    print(int(ren[trunc].lstrip().strip()))\n",
        "for linea in archivo.readlines():\n",
        "  for trunc in linea.split(\",\"):\n",
        "    print (int(trunc.strip()))"
      ],
      "execution_count": null,
      "outputs": []
    },
    {
      "cell_type": "markdown",
      "metadata": {
        "id": "Ta9PtyBa20Au"
      },
      "source": [
        "#Sintaxis del for en python\n",
        "-dos versiones del for\n",
        "  -range\n",
        "  -in iterator"
      ]
    },
    {
      "cell_type": "code",
      "metadata": {
        "id": "CUOe_MNm2-SX"
      },
      "source": [
        "r = range(0,10,2)\n",
        "for x in r:\n",
        "  print(x)\n",
        "\n",
        "colores = ['rojo','rosa','azul','fiusha']\n",
        "\n",
        "for indice in range(0,4,1):\n",
        "  #print(colores[indice])\n",
        "  #colores[indice]=colores[indice].upper()\n",
        "\n",
        "#for sobre un iterador\n",
        "\n",
        "for col in colores:\n",
        "  print(col)"
      ],
      "execution_count": null,
      "outputs": []
    },
    {
      "cell_type": "markdown",
      "metadata": {
        "id": "tH1BavO98CER"
      },
      "source": [
        "# generadores\n",
        "\n",
        "[valor for x in range(10)]\n",
        "\n",
        "\n",
        "[[0,0,0],\n",
        " [0,0,0],\n",
        " [0,0,0]]\n",
        "\n",
        " 3 x 3\n"
      ]
    },
    {
      "cell_type": "code",
      "metadata": {
        "id": "76rmREc47_G_"
      },
      "source": [
        "lista = [ [0,0,0] for x in range(3)]\n",
        "print(lista)"
      ],
      "execution_count": null,
      "outputs": []
    },
    {
      "cell_type": "code",
      "metadata": {
        "id": "o9tXaLTN94fV"
      },
      "source": [
        "lista = [ [0 for x in range(3)] for x in range (3)]\n",
        "print(lista)"
      ],
      "execution_count": null,
      "outputs": []
    },
    {
      "cell_type": "markdown",
      "metadata": {
        "id": "-Qa0A-xy_Gre"
      },
      "source": [
        "# POO en Python\n",
        "- clase\n",
        "- creacion de objetos\n",
        "- constructor\n",
        "- encapsulamiento\n",
        "- metodos\n",
        "- atributos\n",
        "- herencia"
      ]
    },
    {
      "cell_type": "code",
      "metadata": {
        "id": "ll4L_L4A_XFn",
        "outputId": "18547327-0dfa-42ec-ee5d-06d579448fcd",
        "colab": {
          "base_uri": "https://localhost:8080/",
          "height": 34
        }
      },
      "source": [
        "class Computadora:\n",
        "  def __init__( self, m, p ):\n",
        "    self.__marca = m\n",
        "    self.__procesador = p\n",
        "\n",
        "  def to_string( self ):\n",
        "    return \"Marca: \" +self.__marca+\" Procesador:\"+self.__procesador\n",
        "\n",
        "mi_pc = Computadora(\"Toshiba\", \"Intel i7\")\n",
        "print(mi_pc.to_string())\n",
        "\n"
      ],
      "execution_count": 45,
      "outputs": [
        {
          "output_type": "stream",
          "text": [
            "Marca: Toshiba Procesador:Intel i7\n"
          ],
          "name": "stdout"
        }
      ]
    }
  ]
}